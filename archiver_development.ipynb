{
 "cells": [
  {
   "cell_type": "markdown",
   "metadata": {},
   "source": [
    "# Archiver Development\n",
    "Ryan Skinner\n",
    "\n",
    "## Objectives\n",
    "This notebook serves as a playground for getting Twitter API calls working in Python. We have four objectives:\n",
    "1. Establish an authenticated connection with the Twitter API using oauth2\n",
    "1. Query the Twitter/Trends API and select top-X trending hashtags in the US\n",
    "1. Query the Twitter/Search API for each top-X trend to get relevant tweets in the US\n",
    "1. Archive trends and tweets to S3"
   ]
  },
  {
   "cell_type": "markdown",
   "metadata": {},
   "source": [
    "## 1. Authenticate with Twitter API\n",
    "\n",
    "We have created a Twitter developer account, as well as an app within that account. We wish to make calls to the Twitter API using [application-only authentication](https://developer.twitter.com/en/docs/basics/authentication/overview/application-only), since we do not wish to make calls that are associated with any specific user.\n",
    "\n",
    "#### OAuth\n",
    "Twitter has a nice explanation of the authentication flow at the above link, which follows these steps:\n",
    "1. An application encodes its consumer key and secret key into a specially encoded set of credentials.\n",
    "2. An application makes a request to the POST oauth2 / token endpoint to exchange these credentials for a bearer token.\n",
    "3. When accessing the REST API, the application uses the bearer token to authenticate.\n",
    "\n",
    "#### Credentials as Environment Variables\n",
    "All three credentials (the consumer key, secret key, and bearer token) give access to the Twitter API on behalf of the application, and should be considered as sensitive as passwords. **As such, we will store all three credentials as environment variables so they are not included in our code on GitHub.**\n",
    "\n",
    "#### Transport Layer Security (TLS) Required\n",
    "All requests to Twitter API endpoints, including to obtain and use tokens, [must use HTTPS endpoints](https://developer.twitter.com/en/docs/basics/authentication/guides/tls). Twitter advocates best practices for verifying certificates; see the aforementioned link.\n",
    "\n",
    "#### Rate Limiting\n",
    "A Twitter API exists that will return the [current status of rate-limiting for an application](https://developer.twitter.com/en/docs/developer-utilities/rate-limit-status/api-reference/get-application-rate_limit_status). Specifically, it will tell you the limit for each specified Twitter API endpoint, the number of requests remaining, and the duration in UNIX epoch seconds before the rate limit resets. See [documentation on fields returned by the rate_limit_status API here](https://developer.twitter.com/en/docs/basics/rate-limiting.html)."
   ]
  },
  {
   "cell_type": "code",
   "execution_count": null,
   "metadata": {},
   "outputs": [],
   "source": []
  }
 ],
 "metadata": {
  "kernelspec": {
   "display_name": "Python 3",
   "language": "python",
   "name": "python3"
  },
  "language_info": {
   "codemirror_mode": {
    "name": "ipython",
    "version": 3
   },
   "file_extension": ".py",
   "mimetype": "text/x-python",
   "name": "python",
   "nbconvert_exporter": "python",
   "pygments_lexer": "ipython3",
   "version": "3.6.4"
  }
 },
 "nbformat": 4,
 "nbformat_minor": 2
}
